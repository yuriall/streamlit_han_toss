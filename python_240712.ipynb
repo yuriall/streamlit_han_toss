{
 "cells": [
  {
   "cell_type": "markdown",
   "id": "d6426ab2-cf8f-4b31-9945-4ed0df8ed956",
   "metadata": {},
   "source": [
    "# DB연동\n",
    "- DB 연동하는 것은 에러가 없어야 함\n",
    "- 해당 코드는 무조건 돌아가게끔 만들어야 함\n",
    "- MySQL에 문제가 생김\n",
    "  + 대처방안 : try-catch 구문"
   ]
  },
  {
   "cell_type": "code",
   "execution_count": 2,
   "id": "d2e1a50c-1f43-4589-9d4b-1da7ff1a07cc",
   "metadata": {},
   "outputs": [
    {
     "ename": "ZeroDivisionError",
     "evalue": "division by zero",
     "output_type": "error",
     "traceback": [
      "\u001b[1;31m---------------------------------------------------------------------------\u001b[0m",
      "\u001b[1;31mZeroDivisionError\u001b[0m                         Traceback (most recent call last)",
      "Cell \u001b[1;32mIn[2], line 4\u001b[0m\n\u001b[0;32m      1\u001b[0m numerator \u001b[38;5;241m=\u001b[39m \u001b[38;5;241m10\u001b[39m\n\u001b[0;32m      2\u001b[0m denominator \u001b[38;5;241m=\u001b[39m \u001b[38;5;241m0\u001b[39m\n\u001b[1;32m----> 4\u001b[0m result \u001b[38;5;241m=\u001b[39m numerator \u001b[38;5;241m/\u001b[39m denominator\n\u001b[0;32m      6\u001b[0m \u001b[38;5;28mprint\u001b[39m(\u001b[38;5;124m\"\u001b[39m\u001b[38;5;124m결과 확인\u001b[39m\u001b[38;5;124m\"\u001b[39m)\n",
      "\u001b[1;31mZeroDivisionError\u001b[0m: division by zero"
     ]
    }
   ],
   "source": []
  },
  {
   "cell_type": "code",
   "execution_count": 4,
   "id": "ce3416e2-dfd8-466b-832c-f80377800506",
   "metadata": {},
   "outputs": [
    {
     "name": "stdout",
     "output_type": "stream",
     "text": [
      "Error: 0으로 나눌 수 없음\n",
      "결과 확인\n"
     ]
    }
   ],
   "source": [
    "try : \n",
    "    numerator = 10\n",
    "    denominator = 0\n",
    "    result = numerator / denominator\n",
    "except ZeroDivisionError:\n",
    "    print(\"Error: 0으로 나눌 수 없음\")\n",
    "else : \n",
    "        print(\"결과 확인: \", reslut)\n",
    "finally:\n",
    "    print(\"결과 확인\")"
   ]
  },
  {
   "cell_type": "code",
   "execution_count": 6,
   "id": "8865e4c9-d8db-4a2c-a849-d1e4da497145",
   "metadata": {},
   "outputs": [
    {
     "name": "stdin",
     "output_type": "stream",
     "text": [
      "숫자를 입력하세요 3\n"
     ]
    },
    {
     "name": "stdout",
     "output_type": "stream",
     "text": [
      "결과 확인:  3.3333333333333335\n",
      "결과 확인\n"
     ]
    }
   ],
   "source": [
    "try : \n",
    "    numerator = 10\n",
    "    denominator = int(input(\"숫자를 입력하세요\"))\n",
    "    result = numerator / denominator\n",
    "except ZeroDivisionError:\n",
    "    print(\"Error: 0으로 나눌 수 없음\")\n",
    "except ValueError:\n",
    "    print(\"Invalud Literal for int() with\")\n",
    "else : \n",
    "        print(\"결과 확인: \", result)\n",
    "finally:\n",
    "    print(\"결과 확인\")"
   ]
  },
  {
   "cell_type": "markdown",
   "id": "3c6ce754-e72f-462b-88f8-763b8b157e85",
   "metadata": {},
   "source": [
    "# STEP 1 Connect to Server"
   ]
  },
  {
   "cell_type": "code",
   "execution_count": 8,
   "id": "05c5644d-3590-4088-ab15-0e9f78db2c6f",
   "metadata": {},
   "outputs": [],
   "source": [
    "import os\n",
    "from mysql import connector\n",
    "\n",
    "PASSWORD = '1234'"
   ]
  },
  {
   "cell_type": "markdown",
   "id": "cbb66720-3c3b-44a3-b996-097c178252fc",
   "metadata": {},
   "source": [
    "기초문법 중급 레벨\n",
    "- with vs python decorator\n",
    "  "
   ]
  },
  {
   "cell_type": "code",
   "execution_count": 10,
   "id": "0d1cd1af-9a0c-48fa-b04d-13052efbafae",
   "metadata": {},
   "outputs": [
    {
     "name": "stdout",
     "output_type": "stream",
     "text": [
      "Database 객체 : <mysql.connector.connection_cext.CMySQLConnection object at 0x00000210B906B210>\n"
     ]
    }
   ],
   "source": [
    "try:\n",
    "    with connector.connect(\n",
    "        host = 'localhost',\n",
    "        user = 'root',\n",
    "        password = PASSWORD\n",
    "    ) as database:\n",
    "        print(f\"Database 객체 : {database}\")\n",
    "except connector.Error as e:\n",
    "    print(e)  "
   ]
  },
  {
   "cell_type": "markdown",
   "id": "6190426d-804f-4906-a6cc-9a169ec16e4b",
   "metadata": {},
   "source": [
    "## Step 2. Creating New DB"
   ]
  },
  {
   "cell_type": "code",
   "execution_count": 11,
   "id": "8b312a68-b18f-4e75-ba31-4135bcc0ae46",
   "metadata": {},
   "outputs": [
    {
     "name": "stdout",
     "output_type": "stream",
     "text": [
      "Database 객체 : <mysql.connector.connection_cext.CMySQLConnection object at 0x00000210B9069590>\n",
      "('book_ratings',)\n",
      "('classicmodels',)\n",
      "('information_schema',)\n",
      "('instacart',)\n",
      "('mydata',)\n",
      "('mydata2',)\n",
      "('mysql',)\n",
      "('performance_schema',)\n",
      "('sakila',)\n",
      "('sys',)\n",
      "('testdb',)\n",
      "('titanic',)\n",
      "('world',)\n"
     ]
    }
   ],
   "source": [
    "try:\n",
    "    with connector.connect(\n",
    "        host = 'localhost',\n",
    "        user = 'root',\n",
    "        password = PASSWORD\n",
    "    ) as database:\n",
    "        print(f\"Database 객체 : {database}\")\n",
    "        \n",
    "       \n",
    "        with database.cursor() as cursor:\n",
    "            # 쿼리문 작성\n",
    "            create_db = \"CREATE DATABASE book_ratings;\"\n",
    "            cursor.execute(create_db)\n",
    "\n",
    "            # 생성된 DB 확인 쿼리문 쓰기\n",
    "            show_existing_db = \"SHOW DATABASES;\"\n",
    "            cursor.execute(show_existing_db)\n",
    "            for db in cursor:\n",
    "                print(db)\n",
    "\n",
    "except connector.Error as e:\n",
    "    print(e)  "
   ]
  },
  {
   "cell_type": "markdown",
   "id": "d02b79fb-572e-4560-b838-b816f88fde6d",
   "metadata": {},
   "source": [
    "# - 특정 DB에 직접 연결하겠습니다"
   ]
  },
  {
   "cell_type": "code",
   "execution_count": 14,
   "id": "2c5353ff-dcf8-42c0-a3a2-b28a4da9ff60",
   "metadata": {},
   "outputs": [
    {
     "name": "stdout",
     "output_type": "stream",
     "text": [
      "Database 객체 : <mysql.connector.connection_cext.CMySQLConnection object at 0x00000210B9068E90>\n"
     ]
    }
   ],
   "source": [
    "try:\n",
    "    with connector.connect(\n",
    "        host = 'localhost',\n",
    "        user = 'root',\n",
    "        password = PASSWORD,\n",
    "        database = \"book_ratings\" #이것이 기존 코드와의 차이점\n",
    "    ) as database:\n",
    "        print(f\"Database 객체 : {database}\")\n",
    "except connector.Error as e:\n",
    "    print(e)  "
   ]
  },
  {
   "cell_type": "markdown",
   "id": "d3952afe-1054-45c1-9450-245e302d4c95",
   "metadata": {},
   "source": [
    "# STEP 3. Creating Tables"
   ]
  },
  {
   "cell_type": "code",
   "execution_count": 18,
   "id": "7d2c4190-7769-4d02-b9ed-51a6c90f138d",
   "metadata": {},
   "outputs": [
    {
     "name": "stdout",
     "output_type": "stream",
     "text": [
      "Database 객체 : <mysql.connector.connection_cext.CMySQLConnection object at 0x00000210B9192210>\n",
      "1050 (42S01): Table 'books' already exists\n"
     ]
    }
   ],
   "source": [
    "create_books_table = \"\"\"\n",
    "\n",
    "        CREATE TABLE books(\n",
    "        \tid INT NOT NULL AUTO_INCREMENT PRIMARY KEY,\n",
    "            title VARCHAR(100),\n",
    "            author VARCHAR(100),\n",
    "            genre VARCHAR(100),\n",
    "            release_year YEAR(4)\n",
    "        );\n",
    "\"\"\"\n",
    "try:\n",
    "    with connector.connect(\n",
    "        host = 'localhost',\n",
    "        user = 'root',\n",
    "        password = PASSWORD,\n",
    "        database = \"book_ratings\" #이것이 기존 코드와의 차이점\n",
    "    ) as database:\n",
    "        print(f\"Database 객체 : {database}\")\n",
    "\n",
    "        # cursor dbject접근 후 , 위 쿼리를 실행\n",
    "        with database.cursor() as cursor:\n",
    "            cursor.execute(create_books_table)\n",
    "            database.commit()\n",
    "\n",
    "            # 테이블 확인하기\n",
    "            describe_books = \"DESC books;\"\n",
    "            cursor.execute(describe_books)\n",
    "            book_schema = cursor.fetchall()\n",
    "            for column in book_schema:\n",
    "                print(column)\n",
    "except connector.Error as e:\n",
    "    print(e)  "
   ]
  },
  {
   "cell_type": "markdown",
   "id": "6ff3b4ac-e253-4eec-b2f7-2bb7e5d67c69",
   "metadata": {},
   "source": [
    "# STEP 4. Data Insertion\n",
    "- 하나의 레코드 추가할 때와 다중 레코드 추가할 때 사용하는 메서드 다름\n",
    "  "
   ]
  },
  {
   "cell_type": "code",
   "execution_count": null,
   "id": "c091522e-e0dd-4157-902a-11569c9dc877",
   "metadata": {},
   "outputs": [],
   "source": [
    "INSERT INTO 테이블명 (컬럼명1, 컬럼명2, 컬럼명3, ...) VALUES(%S, %S, ,,)"
   ]
  },
  {
   "cell_type": "code",
   "execution_count": 19,
   "id": "0b547dd4-ad18-4238-8846-b420d309804e",
   "metadata": {},
   "outputs": [],
   "source": [
    "insert_single_record = \"INSERT INTO books (id, title, author, genre, release_year)\\\n",
    "    VALUES (%s, %s, %s, %s, %s)\"\n",
    "single_record = (\n",
    "    \"1\", \"Choose Yourself! Be Happy, Make Millions, Live the Dream\", \"James Altucher\", \"self-help\", \"2013\"\n",
    "    )"
   ]
  },
  {
   "cell_type": "code",
   "execution_count": 20,
   "id": "b2eb30f8-facb-45b5-83ac-86e84bedeac0",
   "metadata": {},
   "outputs": [
    {
     "name": "stdout",
     "output_type": "stream",
     "text": [
      "Database 객체 : <mysql.connector.connection_cext.CMySQLConnection object at 0x00000210B9069A90>\n"
     ]
    }
   ],
   "source": [
    "try:\n",
    "    with connector.connect(\n",
    "        host = 'localhost',\n",
    "        user = 'root',\n",
    "        password = PASSWORD,\n",
    "        database = \"book_ratings\" #이것이 기존 코드와의 차이점\n",
    "    ) as database:\n",
    "        print(f\"Database 객체 : {database}\")\n",
    "\n",
    "\n",
    "        # 커서 생성 후, 쿼리 실행\n",
    "        with database.cursor() as cursor:\n",
    "            cursor.execute(insert_single_record, single_record)\n",
    "            database.commit()\n",
    "except connector.Error as e:\n",
    "    print(e)  "
   ]
  },
  {
   "cell_type": "markdown",
   "id": "b4731d49-d2f1-4cf6-9d68-c864183f679c",
   "metadata": {},
   "source": [
    "-  다중 레코드를 추가하자"
   ]
  },
  {
   "cell_type": "code",
   "execution_count": 21,
   "id": "6db5c729-34e8-4aff-9b74-56c92644c9b2",
   "metadata": {},
   "outputs": [],
   "source": [
    "insert_multiple_records = \"INSERT INTO books (id, title, author, genre, release_year)\\\n",
    "    VALUES (%s, %s, %s, %s, %s)\"\n",
    "multiple_records = [\n",
    "    (\n",
    "        \"2\", \n",
    "        \"Skip the Line: The 10,000 Experiments Rule and Other Surprising Advice for Reaching Your Goals\",\n",
    "        \"James Altucher\",\n",
    "        \"self-help\",\n",
    "        \"2021\"        \n",
    "    ),\n",
    "    (\n",
    "        \"3\",\n",
    "        \"The Power of No: Because One Little Word Can Bring Health, Abundance, and Happiness\",\n",
    "        \"James Altucher\",\n",
    "        \"self-help\",\n",
    "        \"2014\"\n",
    "    ),\n",
    "    (\n",
    "        \"4\",\n",
    "        \"The 48 Laws of Power\",\n",
    "        \"Robert Greene\",\n",
    "        \"self-help\",\n",
    "        \"1998\"\n",
    "    ),\n",
    "    (\n",
    "        \"5\",\n",
    "        \"Mastery\",\n",
    "        \"Robert Greene\",\n",
    "        \"self-help\",\n",
    "        \"2012\"\n",
    "    ),\n",
    "    (\n",
    "        \"6\",\n",
    "        \"The Art of Seduction\",\n",
    "        \"Robert Greene\",\n",
    "        \"self-help\",\n",
    "        \"2001\"\n",
    "    ),\n",
    "]"
   ]
  },
  {
   "cell_type": "code",
   "execution_count": 22,
   "id": "54d6c15f-25bd-42eb-b06c-467dcb2e5ad0",
   "metadata": {},
   "outputs": [
    {
     "name": "stdout",
     "output_type": "stream",
     "text": [
      "Database 객체 : <mysql.connector.connection_cext.CMySQLConnection object at 0x00000210B906B450>\n"
     ]
    }
   ],
   "source": [
    "try:\n",
    "    with connector.connect(\n",
    "        host = 'localhost',\n",
    "        user = 'root',\n",
    "        password = PASSWORD,\n",
    "        database = \"book_ratings\" #이것이 기존 코드와의 차이점\n",
    "    ) as database:\n",
    "        print(f\"Database 객체 : {database}\")\n",
    "\n",
    "\n",
    "        # 커서 생성 후, 쿼리 실행\n",
    "        with database.cursor() as cursor:\n",
    "            # cursor.execute(insert_single_record, single_record)\n",
    "            cursor.executemany(insert_multiple_records, multiple_records)\n",
    "            database.commit()\n",
    "except connector.Error as e:\n",
    "    print(e)  "
   ]
  },
  {
   "cell_type": "markdown",
   "id": "eeb28481-5668-4bf3-ba53-6ffb18165857",
   "metadata": {},
   "source": [
    "STEP"
   ]
  },
  {
   "cell_type": "code",
   "execution_count": 26,
   "id": "7a112780-8fc1-4b8b-a7be-d4bafb8dedbd",
   "metadata": {},
   "outputs": [
    {
     "name": "stdout",
     "output_type": "stream",
     "text": [
      "Database 객체 : <mysql.connector.connection_cext.CMySQLConnection object at 0x00000210B9075490>\n",
      "('James Altucher', 2013)\n",
      "('James Altucher', 2021)\n",
      "('James Altucher', 2014)\n",
      "('Robert Greene', 1998)\n",
      "('Robert Greene', 2012)\n",
      "('Robert Greene', 2001)\n"
     ]
    }
   ],
   "source": [
    "try:\n",
    "    with connector.connect(\n",
    "        host = 'localhost',\n",
    "        user = 'root',\n",
    "        password = PASSWORD,\n",
    "        database = \"book_ratings\" # 이것이 기존 코드와의 차이점\n",
    "    ) as database:\n",
    "        print(f'Database 객체 : {database}')\n",
    "        # 커서 생성 후, 쿼리 실행\n",
    "        with database.cursor() as cursor:\n",
    "           #쿼리문 작성\n",
    "            select_cols = \"SELECT author, release_year FROM books;\"\n",
    "            cursor.execute(select_cols)\n",
    "            # 데이터 확인\n",
    "            df = cursor.fetchall()\n",
    "            for result in df:\n",
    "                print(result)\n",
    "except connnector.Error as e:\n",
    "    print(e)"
   ]
  },
  {
   "cell_type": "markdown",
   "id": "818b6ece-16df-4e5f-8da0-5d6a37b3da19",
   "metadata": {},
   "source": [
    "# SELECT 사용자 정의 함수 만들기\n",
    "- 어떤 테이블을 조회해도 깔끔하게 데이터프레임으로 만드는 함수\n",
    "- 테스트 하기"
   ]
  },
  {
   "cell_type": "code",
   "execution_count": 48,
   "id": "1ea8d0cc-079e-4cbb-bcbb-d308846554cb",
   "metadata": {},
   "outputs": [],
   "source": [
    "# 강사님 Ver.\n",
    "import pandas as pd\n",
    "\n",
    "def fetch_data_to_dataframe(query, database=None):\n",
    "    try: \n",
    "        with connector.connect(\n",
    "            host=\"localhost\",\n",
    "            user=\"root\",\n",
    "            password=PASSWORD,\n",
    "            database=database\n",
    "        ) as existing_database:\n",
    "            \n",
    "            with existing_database.cursor() as cursor:\n",
    "                cursor.execute(query)\n",
    "                \n",
    "                column_names = [i[0] for i in cursor.description]\n",
    "                \n",
    "                returned_data = cursor.fetchall()\n",
    "                \n",
    "                df = pd.DataFrame(returned_data, columns=column_names)\n",
    "                return df\n",
    "    \n",
    "    except connector.Error as e: \n",
    "        print(e)\n",
    "        return None"
   ]
  },
  {
   "cell_type": "code",
   "execution_count": 50,
   "id": "f842c046-ea5a-40a4-9454-33726d3de60c",
   "metadata": {},
   "outputs": [
    {
     "data": {
      "text/html": [
       "<div>\n",
       "<style scoped>\n",
       "    .dataframe tbody tr th:only-of-type {\n",
       "        vertical-align: middle;\n",
       "    }\n",
       "\n",
       "    .dataframe tbody tr th {\n",
       "        vertical-align: top;\n",
       "    }\n",
       "\n",
       "    .dataframe thead th {\n",
       "        text-align: right;\n",
       "    }\n",
       "</style>\n",
       "<table border=\"1\" class=\"dataframe\">\n",
       "  <thead>\n",
       "    <tr style=\"text-align: right;\">\n",
       "      <th></th>\n",
       "      <th>ClothingID</th>\n",
       "      <th>Age</th>\n",
       "      <th>Title</th>\n",
       "      <th>Review Text</th>\n",
       "      <th>Rating</th>\n",
       "      <th>Recommended IND</th>\n",
       "      <th>Positive Feedback Count</th>\n",
       "      <th>Division Name</th>\n",
       "      <th>Department Name</th>\n",
       "      <th>Class Name</th>\n",
       "    </tr>\n",
       "  </thead>\n",
       "  <tbody>\n",
       "    <tr>\n",
       "      <th>0</th>\n",
       "      <td>767</td>\n",
       "      <td>33</td>\n",
       "      <td></td>\n",
       "      <td>Absolutely wonderful - silky and sexy and comf...</td>\n",
       "      <td>4</td>\n",
       "      <td>1</td>\n",
       "      <td>0</td>\n",
       "      <td>Initmates</td>\n",
       "      <td>Intimate</td>\n",
       "      <td>Intimates</td>\n",
       "    </tr>\n",
       "    <tr>\n",
       "      <th>1</th>\n",
       "      <td>1080</td>\n",
       "      <td>34</td>\n",
       "      <td></td>\n",
       "      <td>Love this dress!  it's sooo pretty.  i happene...</td>\n",
       "      <td>5</td>\n",
       "      <td>1</td>\n",
       "      <td>4</td>\n",
       "      <td>General</td>\n",
       "      <td>Dresses</td>\n",
       "      <td>Dresses</td>\n",
       "    </tr>\n",
       "    <tr>\n",
       "      <th>2</th>\n",
       "      <td>1077</td>\n",
       "      <td>60</td>\n",
       "      <td>Some major design flaws</td>\n",
       "      <td>I had such high hopes for this dress and reall...</td>\n",
       "      <td>3</td>\n",
       "      <td>0</td>\n",
       "      <td>0</td>\n",
       "      <td>General</td>\n",
       "      <td>Dresses</td>\n",
       "      <td>Dresses</td>\n",
       "    </tr>\n",
       "    <tr>\n",
       "      <th>3</th>\n",
       "      <td>1049</td>\n",
       "      <td>50</td>\n",
       "      <td>My favorite buy!</td>\n",
       "      <td>I love, love, love this jumpsuit. it's fun, fl...</td>\n",
       "      <td>5</td>\n",
       "      <td>1</td>\n",
       "      <td>0</td>\n",
       "      <td>General Petite</td>\n",
       "      <td>Bottoms</td>\n",
       "      <td>Pants</td>\n",
       "    </tr>\n",
       "    <tr>\n",
       "      <th>4</th>\n",
       "      <td>847</td>\n",
       "      <td>47</td>\n",
       "      <td>Flattering shirt</td>\n",
       "      <td>This shirt is very flattering to all due to th...</td>\n",
       "      <td>5</td>\n",
       "      <td>1</td>\n",
       "      <td>6</td>\n",
       "      <td>General</td>\n",
       "      <td>Tops</td>\n",
       "      <td>Blouses</td>\n",
       "    </tr>\n",
       "    <tr>\n",
       "      <th>...</th>\n",
       "      <td>...</td>\n",
       "      <td>...</td>\n",
       "      <td>...</td>\n",
       "      <td>...</td>\n",
       "      <td>...</td>\n",
       "      <td>...</td>\n",
       "      <td>...</td>\n",
       "      <td>...</td>\n",
       "      <td>...</td>\n",
       "      <td>...</td>\n",
       "    </tr>\n",
       "    <tr>\n",
       "      <th>20598</th>\n",
       "      <td>1104</td>\n",
       "      <td>34</td>\n",
       "      <td>Great dress for many occasions</td>\n",
       "      <td>I was very happy to snag this dress at such a ...</td>\n",
       "      <td>5</td>\n",
       "      <td>1</td>\n",
       "      <td>0</td>\n",
       "      <td>General Petite</td>\n",
       "      <td>Dresses</td>\n",
       "      <td>Dresses</td>\n",
       "    </tr>\n",
       "    <tr>\n",
       "      <th>20599</th>\n",
       "      <td>862</td>\n",
       "      <td>48</td>\n",
       "      <td>Wish it was made of cotton</td>\n",
       "      <td>It reminds me of maternity clothes. soft, stre...</td>\n",
       "      <td>3</td>\n",
       "      <td>1</td>\n",
       "      <td>0</td>\n",
       "      <td>General Petite</td>\n",
       "      <td>Tops</td>\n",
       "      <td>Knits</td>\n",
       "    </tr>\n",
       "    <tr>\n",
       "      <th>20600</th>\n",
       "      <td>1104</td>\n",
       "      <td>31</td>\n",
       "      <td>Cute, but see through</td>\n",
       "      <td>This fit well, but the top was very see throug...</td>\n",
       "      <td>3</td>\n",
       "      <td>0</td>\n",
       "      <td>1</td>\n",
       "      <td>General Petite</td>\n",
       "      <td>Dresses</td>\n",
       "      <td>Dresses</td>\n",
       "    </tr>\n",
       "    <tr>\n",
       "      <th>20601</th>\n",
       "      <td>1084</td>\n",
       "      <td>28</td>\n",
       "      <td>Very cute dress, perfect for summer parties an...</td>\n",
       "      <td>I bought this dress for a wedding i have this ...</td>\n",
       "      <td>3</td>\n",
       "      <td>1</td>\n",
       "      <td>2</td>\n",
       "      <td>General</td>\n",
       "      <td>Dresses</td>\n",
       "      <td>Dresses</td>\n",
       "    </tr>\n",
       "    <tr>\n",
       "      <th>20602</th>\n",
       "      <td>1104</td>\n",
       "      <td>52</td>\n",
       "      <td>Please make more like this one!</td>\n",
       "      <td>This dress in a lovely platinum is feminine an...</td>\n",
       "      <td>5</td>\n",
       "      <td>1</td>\n",
       "      <td>22</td>\n",
       "      <td>General Petite</td>\n",
       "      <td>Dresses</td>\n",
       "      <td>Dresses</td>\n",
       "    </tr>\n",
       "  </tbody>\n",
       "</table>\n",
       "<p>20603 rows × 10 columns</p>\n",
       "</div>"
      ],
      "text/plain": [
       "       ClothingID  Age                                              Title  \\\n",
       "0             767   33                                                      \n",
       "1            1080   34                                                      \n",
       "2            1077   60                            Some major design flaws   \n",
       "3            1049   50                                   My favorite buy!   \n",
       "4             847   47                                   Flattering shirt   \n",
       "...           ...  ...                                                ...   \n",
       "20598        1104   34                     Great dress for many occasions   \n",
       "20599         862   48                         Wish it was made of cotton   \n",
       "20600        1104   31                              Cute, but see through   \n",
       "20601        1084   28  Very cute dress, perfect for summer parties an...   \n",
       "20602        1104   52                    Please make more like this one!   \n",
       "\n",
       "                                             Review Text  Rating  \\\n",
       "0      Absolutely wonderful - silky and sexy and comf...       4   \n",
       "1      Love this dress!  it's sooo pretty.  i happene...       5   \n",
       "2      I had such high hopes for this dress and reall...       3   \n",
       "3      I love, love, love this jumpsuit. it's fun, fl...       5   \n",
       "4      This shirt is very flattering to all due to th...       5   \n",
       "...                                                  ...     ...   \n",
       "20598  I was very happy to snag this dress at such a ...       5   \n",
       "20599  It reminds me of maternity clothes. soft, stre...       3   \n",
       "20600  This fit well, but the top was very see throug...       3   \n",
       "20601  I bought this dress for a wedding i have this ...       3   \n",
       "20602  This dress in a lovely platinum is feminine an...       5   \n",
       "\n",
       "       Recommended IND  Positive Feedback Count   Division Name  \\\n",
       "0                    1                        0       Initmates   \n",
       "1                    1                        4         General   \n",
       "2                    0                        0         General   \n",
       "3                    1                        0  General Petite   \n",
       "4                    1                        6         General   \n",
       "...                ...                      ...             ...   \n",
       "20598                1                        0  General Petite   \n",
       "20599                1                        0  General Petite   \n",
       "20600                0                        1  General Petite   \n",
       "20601                1                        2         General   \n",
       "20602                1                       22  General Petite   \n",
       "\n",
       "      Department Name Class Name  \n",
       "0            Intimate  Intimates  \n",
       "1             Dresses    Dresses  \n",
       "2             Dresses    Dresses  \n",
       "3             Bottoms      Pants  \n",
       "4                Tops    Blouses  \n",
       "...               ...        ...  \n",
       "20598         Dresses    Dresses  \n",
       "20599            Tops      Knits  \n",
       "20600         Dresses    Dresses  \n",
       "20601         Dresses    Dresses  \n",
       "20602         Dresses    Dresses  \n",
       "\n",
       "[20603 rows x 10 columns]"
      ]
     },
     "execution_count": 50,
     "metadata": {},
     "output_type": "execute_result"
    }
   ],
   "source": [
    "query_all_cols = \"SELECT * FROM dataset2\"\n",
    "DATABASE = \"mydata\"\n",
    "df_all_cols = fetch_data_to_dataframe(query_all_cols, DATABASE)\n",
    "df_all_cols"
   ]
  },
  {
   "cell_type": "markdown",
   "id": "391b3e8a-25d2-4257-83ec-86ba5d1e6c10",
   "metadata": {},
   "source": [
    "# STEP 6. Update and Delete"
   ]
  },
  {
   "cell_type": "code",
   "execution_count": 53,
   "id": "372d628b-7a0f-4bb5-8580-a5418719928d",
   "metadata": {},
   "outputs": [
    {
     "name": "stdout",
     "output_type": "stream",
     "text": [
      "Database 객체 : <mysql.connector.connection_cext.CMySQLConnection object at 0x00000210B937B450>\n",
      "('Big J',)\n",
      "('Robert Greene',)\n"
     ]
    }
   ],
   "source": [
    "update_query = \"\"\"\n",
    "\n",
    "\n",
    "    UPDATE\n",
    "        books\n",
    "    SET\n",
    "        author = 'Big J'\n",
    "    WHERE\n",
    "        author = 'James Altucher'\n",
    "\"\"\"\n",
    "\n",
    "try:\n",
    "    with connector.connect(\n",
    "        host = 'localhost',\n",
    "        user = 'root',\n",
    "        password = PASSWORD,\n",
    "        database = \"book_ratings\" #이것이 기존 코드와의 차이점\n",
    "    ) as database:\n",
    "        print(f\"Database 객체 : {database}\")\n",
    "\n",
    "\n",
    "        # 커서 생성 후, 쿼리 실행\n",
    "        with database.cursor() as cursor:\n",
    "            cursor.execute(update_query)\n",
    "            database.commit()\n",
    "\n",
    "            check_query = \"SELECT DISTINCT author FROM books;\"\n",
    "            cursor.execute(check_query)\n",
    "\n",
    "            for result in cursor.fetchall():\n",
    "                print(result)\n",
    "                \n",
    "except connector.Error as e:\n",
    "    print(e)  \n"
   ]
  },
  {
   "cell_type": "markdown",
   "id": "2e3af90e-5639-4547-9950-ae8027d328b1",
   "metadata": {},
   "source": [
    "# STEP 7. Delete Records"
   ]
  },
  {
   "cell_type": "code",
   "execution_count": 55,
   "id": "c9129ec9-baae-4527-b942-c7bbc51fdcd9",
   "metadata": {},
   "outputs": [
    {
     "name": "stdout",
     "output_type": "stream",
     "text": [
      "Database 객체 : <mysql.connector.connection_cext.CMySQLConnection object at 0x00000210B9B6F250>\n",
      "(2013,)\n",
      "(2021,)\n",
      "(2014,)\n",
      "(2012,)\n"
     ]
    }
   ],
   "source": [
    "try:\n",
    "    with connector.connect(\n",
    "        host = 'localhost',\n",
    "        user = 'root',\n",
    "        password = PASSWORD,\n",
    "        database = \"book_ratings\" #이것이 기존 코드와의 차이점\n",
    "    ) as database:\n",
    "        print(f\"Database 객체 : {database}\")\n",
    "\n",
    "\n",
    "        # 커서 생성 후, 쿼리 실행\n",
    "        with database.cursor() as cursor:\n",
    "            \n",
    "            delete_query = \"DELETE FROM books WHERE release_year <= 2010;\"\n",
    "            cursor.execute(delete_query)\n",
    "            database.commit()\n",
    "\n",
    "            check_query = \"SELECT DISTINCT release_year FROM books;\"\n",
    "            cursor.execute(check_query)\n",
    "            \n",
    "            for result in cursor.fetchall():\n",
    "                print(result)\n",
    "                \n",
    "except connector.Error as e:\n",
    "    print(e)  "
   ]
  }
 ],
 "metadata": {
  "kernelspec": {
   "display_name": "Python 3 (ipykernel)",
   "language": "python",
   "name": "python3"
  },
  "language_info": {
   "codemirror_mode": {
    "name": "ipython",
    "version": 3
   },
   "file_extension": ".py",
   "mimetype": "text/x-python",
   "name": "python",
   "nbconvert_exporter": "python",
   "pygments_lexer": "ipython3",
   "version": "3.11.7"
  }
 },
 "nbformat": 4,
 "nbformat_minor": 5
}
