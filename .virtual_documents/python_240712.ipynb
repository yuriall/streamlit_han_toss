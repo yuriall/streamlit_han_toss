





try : 
    numerator = 10
    denominator = 0
    result = numerator / denominator
except ZeroDivisionError:
    print("Error: 0으로 나눌 수 없음")
else : 
        print("결과 확인: ", reslut)
finally:
    print("결과 확인")


try : 
    numerator = 10
    denominator = int(input("숫자를 입력하세요"))
    result = numerator / denominator
except ZeroDivisionError:
    print("Error: 0으로 나눌 수 없음")
except ValueError:
    print("Invalud Literal for int() with")
else : 
        print("결과 확인: ", result)
finally:
    print("결과 확인")





import os
from mysql import connector

PASSWORD = '1234'





try:
    with connector.connect(
        host = 'localhost',
        user = 'root',
        password = PASSWORD
    ) as database:
        print(f"Database 객체 : {database}")
except connector.Error as e:
    print(e)  





try:
    with connector.connect(
        host = 'localhost',
        user = 'root',
        password = PASSWORD
    ) as database:
        print(f"Database 객체 : {database}")
        
       
        with database.cursor() as cursor:
            # 쿼리문 작성
            create_db = "CREATE DATABASE book_ratings;"
            cursor.execute(create_db)

            # 생성된 DB 확인 쿼리문 쓰기
            show_existing_db = "SHOW DATABASES;"
            cursor.execute(show_existing_db)
            for db in cursor:
                print(db)

except connector.Error as e:
    print(e)  





try:
    with connector.connect(
        host = 'localhost',
        user = 'root',
        password = PASSWORD,
        database = "book_ratings" #이것이 기존 코드와의 차이점
    ) as database:
        print(f"Database 객체 : {database}")
except connector.Error as e:
    print(e)  





create_books_table = """

        CREATE TABLE books(
        	id INT NOT NULL AUTO_INCREMENT PRIMARY KEY,
            title VARCHAR(100),
            author VARCHAR(100),
            genre VARCHAR(100),
            release_year YEAR(4)
        );
"""
try:
    with connector.connect(
        host = 'localhost',
        user = 'root',
        password = PASSWORD,
        database = "book_ratings" #이것이 기존 코드와의 차이점
    ) as database:
        print(f"Database 객체 : {database}")

        # cursor dbject접근 후 , 위 쿼리를 실행
        with database.cursor() as cursor:
            cursor.execute(create_books_table)
            database.commit()

            # 테이블 확인하기
            describe_books = "DESC books;"
            cursor.execute(describe_books)
            book_schema = cursor.fetchall()
            for column in book_schema:
                print(column)
except connector.Error as e:
    print(e)  





INSERT INTO 테이블명 (컬럼명1, 컬럼명2, 컬럼명3, ...) VALUES(%S, %S, ,,)


insert_single_record = "INSERT INTO books (id, title, author, genre, release_year)\
    VALUES (%s, %s, %s, %s, %s)"
single_record = (
    "1", "Choose Yourself! Be Happy, Make Millions, Live the Dream", "James Altucher", "self-help", "2013"
    )


try:
    with connector.connect(
        host = 'localhost',
        user = 'root',
        password = PASSWORD,
        database = "book_ratings" #이것이 기존 코드와의 차이점
    ) as database:
        print(f"Database 객체 : {database}")


        # 커서 생성 후, 쿼리 실행
        with database.cursor() as cursor:
            cursor.execute(insert_single_record, single_record)
            database.commit()
except connector.Error as e:
    print(e)  





insert_multiple_records = "INSERT INTO books (id, title, author, genre, release_year)\
    VALUES (%s, %s, %s, %s, %s)"
multiple_records = [
    (
        "2", 
        "Skip the Line: The 10,000 Experiments Rule and Other Surprising Advice for Reaching Your Goals",
        "James Altucher",
        "self-help",
        "2021"        
    ),
    (
        "3",
        "The Power of No: Because One Little Word Can Bring Health, Abundance, and Happiness",
        "James Altucher",
        "self-help",
        "2014"
    ),
    (
        "4",
        "The 48 Laws of Power",
        "Robert Greene",
        "self-help",
        "1998"
    ),
    (
        "5",
        "Mastery",
        "Robert Greene",
        "self-help",
        "2012"
    ),
    (
        "6",
        "The Art of Seduction",
        "Robert Greene",
        "self-help",
        "2001"
    ),
]


try:
    with connector.connect(
        host = 'localhost',
        user = 'root',
        password = PASSWORD,
        database = "book_ratings" #이것이 기존 코드와의 차이점
    ) as database:
        print(f"Database 객체 : {database}")


        # 커서 생성 후, 쿼리 실행
        with database.cursor() as cursor:
            # cursor.execute(insert_single_record, single_record)
            cursor.executemany(insert_multiple_records, multiple_records)
            database.commit()
except connector.Error as e:
    print(e)  





try:
    with connector.connect(
        host = 'localhost',
        user = 'root',
        password = PASSWORD,
        database = "book_ratings" # 이것이 기존 코드와의 차이점
    ) as database:
        print(f'Database 객체 : {database}')
        # 커서 생성 후, 쿼리 실행
        with database.cursor() as cursor:
           #쿼리문 작성
            select_cols = "SELECT author, release_year FROM books;"
            cursor.execute(select_cols)
            # 데이터 확인
            df = cursor.fetchall()
            for result in df:
                print(result)
except connnector.Error as e:
    print(e)





# 강사님 Ver.
import pandas as pd

def fetch_data_to_dataframe(query, database=None):
    try: 
        with connector.connect(
            host="localhost",
            user="root",
            password=PASSWORD,
            database=database
        ) as existing_database:
            
            with existing_database.cursor() as cursor:
                cursor.execute(query)
                
                column_names = [i[0] for i in cursor.description]
                
                returned_data = cursor.fetchall()
                
                df = pd.DataFrame(returned_data, columns=column_names)
                return df
    
    except connector.Error as e: 
        print(e)
        return None


query_all_cols = "SELECT * FROM dataset2"
DATABASE = "mydata"
df_all_cols = fetch_data_to_dataframe(query_all_cols, DATABASE)
df_all_cols





update_query = """


    UPDATE
        books
    SET
        author = 'Big J'
    WHERE
        author = 'James Altucher'
"""

try:
    with connector.connect(
        host = 'localhost',
        user = 'root',
        password = PASSWORD,
        database = "book_ratings" #이것이 기존 코드와의 차이점
    ) as database:
        print(f"Database 객체 : {database}")


        # 커서 생성 후, 쿼리 실행
        with database.cursor() as cursor:
            cursor.execute(update_query)
            database.commit()

            check_query = "SELECT DISTINCT author FROM books;"
            cursor.execute(check_query)

            for result in cursor.fetchall():
                print(result)
                
except connector.Error as e:
    print(e)  






try:
    with connector.connect(
        host = 'localhost',
        user = 'root',
        password = PASSWORD,
        database = "book_ratings" #이것이 기존 코드와의 차이점
    ) as database:
        print(f"Database 객체 : {database}")


        # 커서 생성 후, 쿼리 실행
        with database.cursor() as cursor:
            
            delete_query = "DELETE FROM books WHERE release_year <= 2010;"
            cursor.execute(delete_query)
            database.commit()

            check_query = "SELECT DISTINCT release_year FROM books;"
            cursor.execute(check_query)
            
            for result in cursor.fetchall():
                print(result)
                
except connector.Error as e:
    print(e)  
