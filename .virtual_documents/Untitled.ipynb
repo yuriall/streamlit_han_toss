


numerator = 10
denominator = 0

result = numerator / denominator

# 하고 싶은 것은 결과 확인 출력을 꼭 하고 싶음, 어떤 일이 있어도
print("결과 확인")


try : 
    numerator = 10
    denominator = 0
    result = numerator / denominator
except ZeroDivisionError:
    print("Error: 0으로 나눌 수 없음")
else : 
        print("결과 확인: ", reslut)
finally:
    print("결과 확인")


try : 
    numerator = 10
    denominator = int(input("숫자를 입력하세요"))
    result = numerator / denominator
except ZeroDivisionError:
    print("Error: 0으로 나눌 수 없음")
except ValueError:
    print("Invalud Literal for int() with")
else : 
        print("결과 확인: ", result)
finally:
    print("결과 확인")



